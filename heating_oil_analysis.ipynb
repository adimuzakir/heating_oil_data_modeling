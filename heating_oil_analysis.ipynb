{
  "cells": [
    {
      "cell_type": "markdown",
      "metadata": {
        "id": "d2Q9C6O181wo"
      },
      "source": [
        "## Business Understanding\n",
        "\n",
        "Sarah sebagai regional sales manager ingin mengestimasi berapa banyak minyak pemanas (heating oil) yang harus disiapkan agar memenuhi permintaan customer baru. Dengan hal tersebut diharapkan dia dapat mengantisipasi adanya kelebihan atau kekurangan jumlah persediaan akan produk.\n",
        "\n",
        "Objective: Predictive Stock Level untuk kecukupan pelanggan baru sebanyak 42.650 pelanggan. Pelanggan yang ada (current pelanggan) 1.218 pelanggan. Artinya Sarah harus mencukupi ketersediaan heating oil untuk 42.650 + 1.218 pelanggan.\n",
        "\n",
        "Case --> Supervised Learning --> Estimasi\n",
        "\n",
        "Algoritma Estimasi:\n",
        "1. Linear Regression\n",
        "2. ANN MLP (Multi Layer Perceptron)"
      ]
    },
    {
      "cell_type": "markdown",
      "metadata": {
        "id": "-1Ad2g-n_73x"
      },
      "source": [
        "## Data Understanding"
      ]
    },
    {
      "cell_type": "code",
      "execution_count": 26,
      "metadata": {
        "id": "h8VUlqWD4oiT"
      },
      "outputs": [],
      "source": [
        "import pandas as pd\n",
        "import numpy as np\n",
        "import seaborn as sns\n",
        "import matplotlib.pyplot as plt"
      ]
    },
    {
      "cell_type": "code",
      "execution_count": 27,
      "metadata": {
        "colab": {
          "base_uri": "https://localhost:8080/",
          "height": 206
        },
        "id": "4a4r3OyK_YeY",
        "outputId": "0ca93465-a198-4481-9989-d410ad8c684a"
      },
      "outputs": [
        {
          "data": {
            "text/html": [
              "<div>\n",
              "<style scoped>\n",
              "    .dataframe tbody tr th:only-of-type {\n",
              "        vertical-align: middle;\n",
              "    }\n",
              "\n",
              "    .dataframe tbody tr th {\n",
              "        vertical-align: top;\n",
              "    }\n",
              "\n",
              "    .dataframe thead th {\n",
              "        text-align: right;\n",
              "    }\n",
              "</style>\n",
              "<table border=\"1\" class=\"dataframe\">\n",
              "  <thead>\n",
              "    <tr style=\"text-align: right;\">\n",
              "      <th></th>\n",
              "      <th>Insulation</th>\n",
              "      <th>Temperature</th>\n",
              "      <th>Heating_Oil</th>\n",
              "      <th>Num_Occupants</th>\n",
              "      <th>Avg_Age</th>\n",
              "      <th>Home_Size</th>\n",
              "    </tr>\n",
              "  </thead>\n",
              "  <tbody>\n",
              "    <tr>\n",
              "      <th>0</th>\n",
              "      <td>6</td>\n",
              "      <td>74</td>\n",
              "      <td>132</td>\n",
              "      <td>4</td>\n",
              "      <td>23.8</td>\n",
              "      <td>4</td>\n",
              "    </tr>\n",
              "    <tr>\n",
              "      <th>1</th>\n",
              "      <td>10</td>\n",
              "      <td>43</td>\n",
              "      <td>263</td>\n",
              "      <td>4</td>\n",
              "      <td>56.7</td>\n",
              "      <td>4</td>\n",
              "    </tr>\n",
              "    <tr>\n",
              "      <th>2</th>\n",
              "      <td>3</td>\n",
              "      <td>81</td>\n",
              "      <td>145</td>\n",
              "      <td>2</td>\n",
              "      <td>28.0</td>\n",
              "      <td>6</td>\n",
              "    </tr>\n",
              "    <tr>\n",
              "      <th>3</th>\n",
              "      <td>9</td>\n",
              "      <td>50</td>\n",
              "      <td>196</td>\n",
              "      <td>4</td>\n",
              "      <td>45.1</td>\n",
              "      <td>3</td>\n",
              "    </tr>\n",
              "    <tr>\n",
              "      <th>4</th>\n",
              "      <td>2</td>\n",
              "      <td>80</td>\n",
              "      <td>131</td>\n",
              "      <td>5</td>\n",
              "      <td>20.8</td>\n",
              "      <td>2</td>\n",
              "    </tr>\n",
              "  </tbody>\n",
              "</table>\n",
              "</div>"
            ],
            "text/plain": [
              "   Insulation  Temperature  Heating_Oil  Num_Occupants  Avg_Age  Home_Size\n",
              "0           6           74          132              4     23.8          4\n",
              "1          10           43          263              4     56.7          4\n",
              "2           3           81          145              2     28.0          6\n",
              "3           9           50          196              4     45.1          3\n",
              "4           2           80          131              5     20.8          2"
            ]
          },
          "execution_count": 27,
          "metadata": {},
          "output_type": "execute_result"
        }
      ],
      "source": [
        "df = pd.read_csv('heatingOilTrainingset.csv')\n",
        "df.head()"
      ]
    },
    {
      "cell_type": "code",
      "execution_count": 28,
      "metadata": {
        "colab": {
          "base_uri": "https://localhost:8080/"
        },
        "id": "LvRIba25A8qb",
        "outputId": "0f1ff698-7324-4c3a-c63c-f5d924a8ba10"
      },
      "outputs": [
        {
          "name": "stdout",
          "output_type": "stream",
          "text": [
            "<class 'pandas.core.frame.DataFrame'>\n",
            "RangeIndex: 1218 entries, 0 to 1217\n",
            "Data columns (total 6 columns):\n",
            " #   Column         Non-Null Count  Dtype  \n",
            "---  ------         --------------  -----  \n",
            " 0   Insulation     1218 non-null   int64  \n",
            " 1   Temperature    1218 non-null   int64  \n",
            " 2   Heating_Oil    1218 non-null   int64  \n",
            " 3   Num_Occupants  1218 non-null   int64  \n",
            " 4   Avg_Age        1218 non-null   float64\n",
            " 5   Home_Size      1218 non-null   int64  \n",
            "dtypes: float64(1), int64(5)\n",
            "memory usage: 57.2 KB\n"
          ]
        }
      ],
      "source": [
        "df.info()"
      ]
    },
    {
      "cell_type": "markdown",
      "metadata": {
        "id": "5yYxY1riBe0G"
      },
      "source": [
        "## Analisis Korelasi"
      ]
    },
    {
      "cell_type": "code",
      "execution_count": 29,
      "metadata": {
        "colab": {
          "base_uri": "https://localhost:8080/",
          "height": 738
        },
        "id": "woFPSbELA-UQ",
        "outputId": "4bb4f2db-e06d-4ce4-c70f-235c7c865fbd"
      },
      "outputs": [
        {
          "data": {
            "text/plain": [
              "<Axes: title={'center': 'Pearson Correlation'}>"
            ]
          },
          "execution_count": 29,
          "metadata": {},
          "output_type": "execute_result"
        },
        {
          "data": {
            "image/png": "[encoded data removed]",
            "text/plain": [
              "<Figure size 800x800 with 2 Axes>"
            ]
          },
          "metadata": {},
          "output_type": "display_data"
        }
      ],
      "source": [
        "f, ax = plt.subplots(figsize = (8,8))\n",
        "plt.title('Pearson Correlation')\n",
        "sns.heatmap(df.astype(float).corr(), linewidth=0.25, vmax=1.0, square=True, cmap='YlGn', linecolor='black', annot=True)"
      ]
    },
    {
      "cell_type": "markdown",
      "metadata": {
        "id": "Nwh6T0VHDvCw"
      },
      "source": [
        "1. Ada hubungan positif menguatkan antara Insulation dengan Heating Oil\n",
        "2. Ada hubungan negatif melemahkan antara Temperature dengan Heating Oil. Artinya semakin suhunya tinggi maka kebutuhan Heating Oil semakin sedikit\n",
        "3. Ada hubungan negatif melemahkan antara Num_Occupants dengan Heating Oil. Artinya semakin banyak orang yang tinggal di rumah tersebut maka semakin sedikit kebutuhan Heating Oil. Hasil menunjukkan angka 0.042 (tidak signifikan) karena mendekati angka 0\n",
        "4. Semakin banyak/tinggi usia rata-rata penghuni maka semakin tinggi kebutuhan Heating Oil\n",
        "5. Tidak ada hubungan yang mempengaruhi secara signifikan antara Home Size dengan Heating Oil"
      ]
    },
    {
      "cell_type": "markdown",
      "metadata": {
        "id": "KRFjT1o6GpMJ"
      },
      "source": [
        "## Data Preparation"
      ]
    },
    {
      "cell_type": "code",
      "execution_count": 30,
      "metadata": {
        "id": "0qtEfn1GC71o"
      },
      "outputs": [],
      "source": [
        "x = df[['Insulation', 'Temperature', 'Avg_Age',\t'Home_Size', 'Num_Occupants']] #Input Variabel\n",
        "y = df['Heating_Oil'] #Target Variabel"
      ]
    },
    {
      "cell_type": "markdown",
      "metadata": {
        "id": "_eIuUk_oHfcG"
      },
      "source": [
        "## Pemodelan Data"
      ]
    },
    {
      "cell_type": "code",
      "execution_count": 31,
      "metadata": {
        "id": "6t0K6engHeLO"
      },
      "outputs": [],
      "source": [
        "from sklearn.model_selection import train_test_split\n",
        "from sklearn import metrics"
      ]
    },
    {
      "cell_type": "code",
      "execution_count": 32,
      "metadata": {
        "id": "iVQKwzEVIJl2"
      },
      "outputs": [],
      "source": [
        "# SPLITTING training & testing. 70% training dan 30% testing\n",
        "x_train, x_test, y_train, y_test = train_test_split(x,y, test_size=0.3, random_state=0)"
      ]
    },
    {
      "cell_type": "markdown",
      "metadata": {
        "id": "qcLb4gPJIU_1"
      },
      "source": [
        "## Linear Regression"
      ]
    },
    {
      "cell_type": "code",
      "execution_count": 33,
      "metadata": {
        "id": "V4agNmz_IS85"
      },
      "outputs": [],
      "source": [
        "from sklearn.linear_model import LinearRegression"
      ]
    },
    {
      "cell_type": "code",
      "execution_count": 34,
      "metadata": {
        "id": "_ctLCi6TIg4a"
      },
      "outputs": [],
      "source": [
        "# membuat object algoritma linear regression\n",
        "ln = LinearRegression()\n",
        "\n",
        "# memodelkan data menggunakan algoritma linear regression\n",
        "model_ln = ln.fit(x_train, y_train)\n",
        "\n",
        "# melakukan predict pada data test\n",
        "pred_ln = model_ln.predict(x_test)"
      ]
    },
    {
      "cell_type": "markdown",
      "metadata": {
        "id": "nGJNC2wkJL5Z"
      },
      "source": [
        "## Evaluasi Pemodelan Linear Regression\n",
        "\n",
        "1. MAPE (Mean Absolute Percentage Error)\n",
        "2. R2\n",
        "3. MAE (Mean Absolute Error)"
      ]
    },
    {
      "cell_type": "code",
      "execution_count": 35,
      "metadata": {
        "colab": {
          "base_uri": "https://localhost:8080/"
        },
        "id": "fhPpFzKeI7j1",
        "outputId": "7100b267-c6ca-4dcd-d84a-f4758fa1d0f1"
      },
      "outputs": [
        {
          "name": "stdout",
          "output_type": "stream",
          "text": [
            "R Square : 0.8113322126382521\n"
          ]
        }
      ],
      "source": [
        "print('R Square :', metrics.r2_score(y_test, pred_ln))"
      ]
    },
    {
      "cell_type": "code",
      "execution_count": 36,
      "metadata": {
        "colab": {
          "base_uri": "https://localhost:8080/"
        },
        "id": "D6LXv7QVJ-vq",
        "outputId": "d9a8482b-8814-4146-fbcd-01414641f2f5"
      },
      "outputs": [
        {
          "name": "stdout",
          "output_type": "stream",
          "text": [
            "MAPE : 7.845552048912456\n"
          ]
        }
      ],
      "source": [
        "def mean_absolut_percentage_error(y_true,y_pred):\n",
        "  y_true,y_pred = np.array(y_true), np.array(y_pred)\n",
        "  return np.mean(np.abs((y_true-y_pred)/y_true))*100\n",
        "\n",
        "print('MAPE :',  mean_absolut_percentage_error(y_test,pred_ln))"
      ]
    },
    {
      "cell_type": "markdown",
      "metadata": {
        "id": "v4SC0-6OMJ5y"
      },
      "source": [
        "## ANN (Artificial Neural Network)"
      ]
    },
    {
      "cell_type": "code",
      "execution_count": 37,
      "metadata": {
        "id": "ClOhfcJbLa-N"
      },
      "outputs": [],
      "source": [
        "from sklearn.neural_network import MLPRegressor"
      ]
    },
    {
      "cell_type": "code",
      "execution_count": 38,
      "metadata": {
        "colab": {
          "base_uri": "https://localhost:8080/"
        },
        "id": "tCxMq4hwNC2Q",
        "outputId": "e41b3d34-5abf-4ac4-94be-6093e2757fbd"
      },
      "outputs": [
        {
          "name": "stderr",
          "output_type": "stream",
          "text": [
            "C:\\Users\\ASUS\\AppData\\Local\\Packages\\PythonSoftwareFoundation.Python.3.10_qbz5n2kfra8p0\\LocalCache\\local-packages\\Python310\\site-packages\\sklearn\\neural_network\\_multilayer_perceptron.py:691: ConvergenceWarning: Stochastic Optimizer: Maximum iterations (200) reached and the optimization hasn't converged yet.\n",
            "  warnings.warn(\n"
          ]
        }
      ],
      "source": [
        "mlp = MLPRegressor()\n",
        "model_mlp = mlp.fit(x_train, y_train)\n",
        "pred_mlp = model_mlp.predict(x_test)"
      ]
    },
    {
      "cell_type": "code",
      "execution_count": 39,
      "metadata": {
        "colab": {
          "base_uri": "https://localhost:8080/"
        },
        "id": "OVMTWx8sN2MD",
        "outputId": "0fbbeebf-5e66-46c4-85b7-1f1d94951d8c"
      },
      "outputs": [
        {
          "name": "stdout",
          "output_type": "stream",
          "text": [
            "R Square : 0.7692753216899872\n"
          ]
        }
      ],
      "source": [
        "print('R Square :', metrics.r2_score(y_test, pred_mlp))"
      ]
    },
    {
      "cell_type": "code",
      "execution_count": 40,
      "metadata": {
        "colab": {
          "base_uri": "https://localhost:8080/"
        },
        "id": "mZgWw6HLN_JL",
        "outputId": "6bc82e48-3a10-4149-ee51-46e15ff39db3"
      },
      "outputs": [
        {
          "name": "stdout",
          "output_type": "stream",
          "text": [
            "MAPE : 7.5429603694112375\n"
          ]
        }
      ],
      "source": [
        "print('MAPE :',  mean_absolut_percentage_error(y_test,pred_mlp))"
      ]
    },
    {
      "cell_type": "markdown",
      "metadata": {
        "id": "Cb5vzG3nRAAe"
      },
      "source": [
        "## Implementasi Model"
      ]
    },
    {
      "cell_type": "code",
      "execution_count": 41,
      "metadata": {
        "colab": {
          "base_uri": "https://localhost:8080/",
          "height": 206
        },
        "id": "TK68L2_1RQ-f",
        "outputId": "f24fef87-dd73-4985-8d9b-5875faa041c5"
      },
      "outputs": [
        {
          "data": {
            "text/html": [
              "<div>\n",
              "<style scoped>\n",
              "    .dataframe tbody tr th:only-of-type {\n",
              "        vertical-align: middle;\n",
              "    }\n",
              "\n",
              "    .dataframe tbody tr th {\n",
              "        vertical-align: top;\n",
              "    }\n",
              "\n",
              "    .dataframe thead th {\n",
              "        text-align: right;\n",
              "    }\n",
              "</style>\n",
              "<table border=\"1\" class=\"dataframe\">\n",
              "  <thead>\n",
              "    <tr style=\"text-align: right;\">\n",
              "      <th></th>\n",
              "      <th>Insulation</th>\n",
              "      <th>Temperature</th>\n",
              "      <th>Num_Occupants</th>\n",
              "      <th>Avg_Age</th>\n",
              "      <th>Home_Size</th>\n",
              "    </tr>\n",
              "  </thead>\n",
              "  <tbody>\n",
              "    <tr>\n",
              "      <th>0</th>\n",
              "      <td>5</td>\n",
              "      <td>69</td>\n",
              "      <td>10</td>\n",
              "      <td>70.1</td>\n",
              "      <td>7</td>\n",
              "    </tr>\n",
              "    <tr>\n",
              "      <th>1</th>\n",
              "      <td>5</td>\n",
              "      <td>80</td>\n",
              "      <td>1</td>\n",
              "      <td>66.7</td>\n",
              "      <td>1</td>\n",
              "    </tr>\n",
              "    <tr>\n",
              "      <th>2</th>\n",
              "      <td>4</td>\n",
              "      <td>89</td>\n",
              "      <td>9</td>\n",
              "      <td>67.8</td>\n",
              "      <td>7</td>\n",
              "    </tr>\n",
              "    <tr>\n",
              "      <th>3</th>\n",
              "      <td>7</td>\n",
              "      <td>81</td>\n",
              "      <td>9</td>\n",
              "      <td>52.4</td>\n",
              "      <td>6</td>\n",
              "    </tr>\n",
              "    <tr>\n",
              "      <th>4</th>\n",
              "      <td>4</td>\n",
              "      <td>58</td>\n",
              "      <td>8</td>\n",
              "      <td>22.9</td>\n",
              "      <td>7</td>\n",
              "    </tr>\n",
              "  </tbody>\n",
              "</table>\n",
              "</div>"
            ],
            "text/plain": [
              "   Insulation  Temperature  Num_Occupants  Avg_Age  Home_Size\n",
              "0           5           69             10     70.1          7\n",
              "1           5           80              1     66.7          1\n",
              "2           4           89              9     67.8          7\n",
              "3           7           81              9     52.4          6\n",
              "4           4           58              8     22.9          7"
            ]
          },
          "execution_count": 41,
          "metadata": {},
          "output_type": "execute_result"
        }
      ],
      "source": [
        "df1 = pd.read_csv('heatingOilNewust.csv')\n",
        "df1.head()"
      ]
    },
    {
      "cell_type": "code",
      "execution_count": 42,
      "metadata": {
        "colab": {
          "base_uri": "https://localhost:8080/"
        },
        "id": "pMJycBsBRlEs",
        "outputId": "00c2b23f-6429-4211-c978-027b01f295de"
      },
      "outputs": [
        {
          "name": "stdout",
          "output_type": "stream",
          "text": [
            "<class 'pandas.core.frame.DataFrame'>\n",
            "RangeIndex: 42650 entries, 0 to 42649\n",
            "Data columns (total 5 columns):\n",
            " #   Column         Non-Null Count  Dtype  \n",
            "---  ------         --------------  -----  \n",
            " 0   Insulation     42650 non-null  int64  \n",
            " 1   Temperature    42650 non-null  int64  \n",
            " 2   Num_Occupants  42650 non-null  int64  \n",
            " 3   Avg_Age        42650 non-null  float64\n",
            " 4   Home_Size      42650 non-null  int64  \n",
            "dtypes: float64(1), int64(4)\n",
            "memory usage: 1.6 MB\n"
          ]
        }
      ],
      "source": [
        "df1.info()"
      ]
    },
    {
      "cell_type": "code",
      "execution_count": 43,
      "metadata": {
        "id": "JuOvldxMSQUT"
      },
      "outputs": [],
      "source": [
        "x1 = df1[['Insulation', 'Temperature', 'Avg_Age', 'Home_Size', 'Num_Occupants']]"
      ]
    },
    {
      "cell_type": "code",
      "execution_count": 44,
      "metadata": {
        "colab": {
          "base_uri": "https://localhost:8080/"
        },
        "id": "U1c1yytqR4ZP",
        "outputId": "96a29701-7067-4b11-8aab-ddbbbdae94c2"
      },
      "outputs": [
        {
          "data": {
            "text/plain": [
              "array([251.6324391 , 219.9304322 , 227.53697396, ..., 149.82176674,\n",
              "       251.14963983, 221.43648617])"
            ]
          },
          "execution_count": 44,
          "metadata": {},
          "output_type": "execute_result"
        }
      ],
      "source": [
        "prediction = model_ln.predict(x1)\n",
        "prediction"
      ]
    },
    {
      "cell_type": "code",
      "execution_count": 45,
      "metadata": {
        "colab": {
          "base_uri": "https://localhost:8080/",
          "height": 206
        },
        "id": "UgsTvv3ISpDY",
        "outputId": "635b9fec-ecbe-41a9-c93d-1de8199a3f99"
      },
      "outputs": [
        {
          "data": {
            "text/html": [
              "<div>\n",
              "<style scoped>\n",
              "    .dataframe tbody tr th:only-of-type {\n",
              "        vertical-align: middle;\n",
              "    }\n",
              "\n",
              "    .dataframe tbody tr th {\n",
              "        vertical-align: top;\n",
              "    }\n",
              "\n",
              "    .dataframe thead th {\n",
              "        text-align: right;\n",
              "    }\n",
              "</style>\n",
              "<table border=\"1\" class=\"dataframe\">\n",
              "  <thead>\n",
              "    <tr style=\"text-align: right;\">\n",
              "      <th></th>\n",
              "      <th>Prediction</th>\n",
              "    </tr>\n",
              "  </thead>\n",
              "  <tbody>\n",
              "    <tr>\n",
              "      <th>0</th>\n",
              "      <td>251.63</td>\n",
              "    </tr>\n",
              "    <tr>\n",
              "      <th>1</th>\n",
              "      <td>219.93</td>\n",
              "    </tr>\n",
              "    <tr>\n",
              "      <th>2</th>\n",
              "      <td>227.54</td>\n",
              "    </tr>\n",
              "    <tr>\n",
              "      <th>3</th>\n",
              "      <td>208.01</td>\n",
              "    </tr>\n",
              "    <tr>\n",
              "      <th>4</th>\n",
              "      <td>160.96</td>\n",
              "    </tr>\n",
              "  </tbody>\n",
              "</table>\n",
              "</div>"
            ],
            "text/plain": [
              "   Prediction\n",
              "0      251.63\n",
              "1      219.93\n",
              "2      227.54\n",
              "3      208.01\n",
              "4      160.96"
            ]
          },
          "execution_count": 45,
          "metadata": {},
          "output_type": "execute_result"
        }
      ],
      "source": [
        "df_result = pd.DataFrame({'Prediction': prediction}).round(2)\n",
        "df_result.head()"
      ]
    },
    {
      "cell_type": "code",
      "execution_count": 46,
      "metadata": {
        "colab": {
          "base_uri": "https://localhost:8080/",
          "height": 206
        },
        "id": "MVZzFcPtT_3F",
        "outputId": "0ebc9eef-1ecc-41cb-ef50-5ba59a4088c9"
      },
      "outputs": [
        {
          "data": {
            "text/html": [
              "<div>\n",
              "<style scoped>\n",
              "    .dataframe tbody tr th:only-of-type {\n",
              "        vertical-align: middle;\n",
              "    }\n",
              "\n",
              "    .dataframe tbody tr th {\n",
              "        vertical-align: top;\n",
              "    }\n",
              "\n",
              "    .dataframe thead th {\n",
              "        text-align: right;\n",
              "    }\n",
              "</style>\n",
              "<table border=\"1\" class=\"dataframe\">\n",
              "  <thead>\n",
              "    <tr style=\"text-align: right;\">\n",
              "      <th></th>\n",
              "      <th>Insulation</th>\n",
              "      <th>Temperature</th>\n",
              "      <th>Num_Occupants</th>\n",
              "      <th>Avg_Age</th>\n",
              "      <th>Home_Size</th>\n",
              "      <th>Prediction</th>\n",
              "    </tr>\n",
              "  </thead>\n",
              "  <tbody>\n",
              "    <tr>\n",
              "      <th>0</th>\n",
              "      <td>5</td>\n",
              "      <td>69</td>\n",
              "      <td>10</td>\n",
              "      <td>70.1</td>\n",
              "      <td>7</td>\n",
              "      <td>251.63</td>\n",
              "    </tr>\n",
              "    <tr>\n",
              "      <th>1</th>\n",
              "      <td>5</td>\n",
              "      <td>80</td>\n",
              "      <td>1</td>\n",
              "      <td>66.7</td>\n",
              "      <td>1</td>\n",
              "      <td>219.93</td>\n",
              "    </tr>\n",
              "    <tr>\n",
              "      <th>2</th>\n",
              "      <td>4</td>\n",
              "      <td>89</td>\n",
              "      <td>9</td>\n",
              "      <td>67.8</td>\n",
              "      <td>7</td>\n",
              "      <td>227.54</td>\n",
              "    </tr>\n",
              "    <tr>\n",
              "      <th>3</th>\n",
              "      <td>7</td>\n",
              "      <td>81</td>\n",
              "      <td>9</td>\n",
              "      <td>52.4</td>\n",
              "      <td>6</td>\n",
              "      <td>208.01</td>\n",
              "    </tr>\n",
              "    <tr>\n",
              "      <th>4</th>\n",
              "      <td>4</td>\n",
              "      <td>58</td>\n",
              "      <td>8</td>\n",
              "      <td>22.9</td>\n",
              "      <td>7</td>\n",
              "      <td>160.96</td>\n",
              "    </tr>\n",
              "  </tbody>\n",
              "</table>\n",
              "</div>"
            ],
            "text/plain": [
              "   Insulation  Temperature  Num_Occupants  Avg_Age  Home_Size  Prediction\n",
              "0           5           69             10     70.1          7      251.63\n",
              "1           5           80              1     66.7          1      219.93\n",
              "2           4           89              9     67.8          7      227.54\n",
              "3           7           81              9     52.4          6      208.01\n",
              "4           4           58              8     22.9          7      160.96"
            ]
          },
          "execution_count": 46,
          "metadata": {},
          "output_type": "execute_result"
        }
      ],
      "source": [
        "#Menggabungkan Data Frame hasil prediksi dengan Data Frame Input Variabel\n",
        "df_pred = pd.concat([df1, df_result],sort=True, axis=1)\n",
        "df_pred.head()"
      ]
    },
    {
      "cell_type": "code",
      "execution_count": 47,
      "metadata": {
        "colab": {
          "base_uri": "https://localhost:8080/"
        },
        "id": "2eGE161RY5ME",
        "outputId": "af239438-34ac-4560-bf6b-71d9d90bae6f"
      },
      "outputs": [
        {
          "data": {
            "text/plain": [
              "8470686.92"
            ]
          },
          "execution_count": 47,
          "metadata": {},
          "output_type": "execute_result"
        }
      ],
      "source": [
        "# Kebutuhan Heating Oil untuk New Customer\n",
        "df_pred['Prediction'].sum()"
      ]
    },
    {
      "cell_type": "code",
      "execution_count": 48,
      "metadata": {
        "colab": {
          "base_uri": "https://localhost:8080/"
        },
        "id": "5BW3d36VZJMO",
        "outputId": "292a8c54-b5c4-4e22-a012-4343b44ce609"
      },
      "outputs": [
        {
          "data": {
            "text/plain": [
              "240426"
            ]
          },
          "execution_count": 48,
          "metadata": {},
          "output_type": "execute_result"
        }
      ],
      "source": [
        "# Kebutuhan Heating Oil untuk Customer yang sudah ada (current customer)\n",
        "df['Heating_Oil'].sum()"
      ]
    },
    {
      "cell_type": "code",
      "execution_count": 49,
      "metadata": {
        "colab": {
          "base_uri": "https://localhost:8080/",
          "height": 17
        },
        "id": "O0x3YR8xUpWX",
        "outputId": "073f2c96-0714-4f61-ac19-89446bf03242"
      },
      "outputs": [],
      "source": [
        "df_pred.to_csv(path_or_buf='./predict_heating_oil.csv', index= False)"
      ]
    },
    {
      "cell_type": "markdown",
      "metadata": {
        "id": "V1PV3rGEWcTp"
      },
      "source": [
        "Stock yang harus disediakan untuk New Customer = +- 8.377.333 liter\n",
        "\n",
        "Kebutuhan Heating Oil untuk Customer yang sudah ada (current customer) 240.462"
      ]
    }
  ],
  "metadata": {
    "colab": {
      "provenance": []
    },
    "kernelspec": {
      "display_name": "Python 3",
      "name": "python3"
    },
    "language_info": {
      "codemirror_mode": {
        "name": "ipython",
        "version": 3
      },
      "file_extension": ".py",
      "mimetype": "text/x-python",
      "name": "python",
      "nbconvert_exporter": "python",
      "pygments_lexer": "ipython3",
      "version": "3.10.11"
    }
  },
  "nbformat": 4,
  "nbformat_minor": 0
}
